{
  "nbformat": 4,
  "nbformat_minor": 0,
  "metadata": {
    "colab": {
      "provenance": [],
      "authorship_tag": "ABX9TyO5I5P+F6RwQU92L+b7zcn4",
      "include_colab_link": true
    },
    "kernelspec": {
      "name": "python3",
      "display_name": "Python 3"
    },
    "language_info": {
      "name": "python"
    }
  },
  "cells": [
    {
      "cell_type": "markdown",
      "metadata": {
        "id": "view-in-github",
        "colab_type": "text"
      },
      "source": [
        "<a href=\"https://colab.research.google.com/github/DanielaTamy/projetoAluraGeminiFIAP/blob/main/ProjectAlura.ipynb\" target=\"_parent\"><img src=\"https://colab.research.google.com/assets/colab-badge.svg\" alt=\"Open In Colab\"/></a>"
      ]
    },
    {
      "cell_type": "markdown",
      "source": [
        "##Projeto de: Daniela Tamy Yuki\n",
        "Projeto de um ChatBot que ajuda seus usuários a realizarem planos para sua próxima viagem. Informando o destino, data da viagem e seus interresses, o chat monta diversas dicas e sugestões que o viajante possa seguir."
      ],
      "metadata": {
        "id": "mhxRalcWiGaM"
      }
    },
    {
      "cell_type": "markdown",
      "source": [
        "Instação o SDK do Google e configurações necessárias"
      ],
      "metadata": {
        "id": "SwArW7-fvZ5u"
      }
    },
    {
      "cell_type": "code",
      "source": [
        "!pip install -q -U google-generativeai requests\n",
        "\n",
        "import google.generativeai as genai\n",
        "import requests\n",
        "import textwrap\n",
        "from IPython.display import Markdown, display\n",
        "from google.colab import userdata\n",
        "api_key = userdata.get('secretKey')\n",
        "\n",
        "\n",
        "genai.configure(api_key=api_key)"
      ],
      "metadata": {
        "colab": {
          "base_uri": "https://localhost:8080/"
        },
        "id": "GWtm6kEZvYyp",
        "outputId": "dffa3a9c-1838-40ce-81f4-162b43fbbac0"
      },
      "execution_count": 134,
      "outputs": [
        {
          "output_type": "stream",
          "name": "stdout",
          "text": [
            "\u001b[33mWARNING: Running pip as the 'root' user can result in broken permissions and conflicting behaviour with the system package manager. It is recommended to use a virtual environment instead: https://pip.pypa.io/warnings/venv\u001b[0m\u001b[33m\n",
            "\u001b[0m"
          ]
        }
      ]
    },
    {
      "cell_type": "markdown",
      "source": [
        "Modelos Gemini"
      ],
      "metadata": {
        "id": "OlyeK1-NwYSn"
      }
    },
    {
      "cell_type": "code",
      "source": [
        "for m in genai.list_models():\n",
        "  if 'generateContent' in m.supported_generation_methods:\n",
        "    print(m.name)"
      ],
      "metadata": {
        "colab": {
          "base_uri": "https://localhost:8080/",
          "height": 138
        },
        "id": "KD8qYU_-vxcf",
        "outputId": "660f6e46-080b-4677-93e4-fe885e96b5e1"
      },
      "execution_count": 135,
      "outputs": [
        {
          "output_type": "stream",
          "name": "stdout",
          "text": [
            "models/gemini-1.0-pro\n",
            "models/gemini-1.0-pro-001\n",
            "models/gemini-1.0-pro-latest\n",
            "models/gemini-1.0-pro-vision-latest\n",
            "models/gemini-1.5-pro-latest\n",
            "models/gemini-pro\n",
            "models/gemini-pro-vision\n"
          ]
        }
      ]
    },
    {
      "cell_type": "code",
      "source": [
        "generation_config = {\n",
        "  \"candidate_count\": 1,\n",
        "  \"temperature\": 0.5,\n",
        "}\n",
        "safety_settings={\n",
        "    'HATE': 'BLOCK_NONE',\n",
        "    'HARASSMENT': 'BLOCK_NONE',\n",
        "    'SEXUAL' : 'BLOCK_NONE',\n",
        "    'DANGEROUS' : 'BLOCK_NONE'\n",
        "    }\n",
        "model = genai.GenerativeModel(model_name='gemini-1.0-pro',\n",
        "                             generation_config=generation_config,\n",
        "                             safety_settings=safety_settings)"
      ],
      "metadata": {
        "id": "X7qqCU8xw9u-"
      },
      "execution_count": 136,
      "outputs": []
    },
    {
      "cell_type": "markdown",
      "source": [
        "classes do chatBot"
      ],
      "metadata": {
        "id": "2yLl8k53itsU"
      }
    },
    {
      "cell_type": "code",
      "source": [
        "# Chatbot de planejamento de viagens\n",
        "class TravelPlanner:\n",
        "    def __init__(self, model):\n",
        "        self.model = model\n",
        "        self.destination = None\n",
        "        self.date = None\n",
        "        self.interests = None\n",
        "\n",
        "    def get_trip_info(self):\n",
        "        display(to_markdown(\"🌎 **Para onde você gostaria de viajar?**\"))\n",
        "        self.destination = input()\n",
        "        display(to_markdown(\"📅 **Quando você gostaria de viajar? (Ex: 20 de Abril de 2023)**\"))\n",
        "        self.date = input()\n",
        "        display(to_markdown(\"🌟 **Quais são seus interesses? (Ex: história, aventura, culinária)**\"))\n",
        "        self.interests = input()\n",
        "\n",
        "    def generate_plan(self):\n",
        "        prompt = f\"\"\"\n",
        "        Planeje uma viagem para {self.destination} em {self.date} para alguém interessado em {self.interests}.\n",
        "        Estruture a resposta usando títulos (###) para as seguintes categorias e inclua emojis relacionados:\n",
        "        ### Atrações 🏞️:\n",
        "        ### Restaurantes 🍽️:\n",
        "        ### Transporte 🚗:\n",
        "        ### Dicas 💡:\n",
        "        \"\"\"\n",
        "        response = self.model.generate_content(prompt)\n",
        "\n",
        "        return response.text\n"
      ],
      "metadata": {
        "id": "ZYpbR8qgXO47"
      },
      "execution_count": 137,
      "outputs": []
    },
    {
      "cell_type": "markdown",
      "source": [
        "implementação e criação do Bot"
      ],
      "metadata": {
        "id": "Q0a-cqqMixJz"
      }
    },
    {
      "cell_type": "code",
      "source": [
        "def to_markdown(text):\n",
        "  text = text.replace('•', '  *')\n",
        "  return Markdown(textwrap.indent(text, '> ', predicate=lambda _: True))\n",
        "\n",
        "# Inicializa o chatbot\n",
        "chatbot = TravelPlanner(model)\n",
        "\n",
        "# Obtém as informações da viagem\n",
        "chatbot.get_trip_info()\n",
        "\n",
        "# Gera o plano de viagem\n",
        "plan = chatbot.generate_plan()\n",
        "\n",
        "# Apresentação com emojis e formatação\n",
        "display(to_markdown(f\"✈️  **Seu plano de viagem para {chatbot.destination} está pronto!** 🎉\"))\n",
        "\n",
        "# Separa o plano em blocos usando os títulos como delimitadores\n",
        "blocks = plan.split(\"###\")\n",
        "\n",
        "for block in blocks:\n",
        "    if block.strip():  # Ignora blocos vazios\n",
        "        display(to_markdown(f\"### {block}\"))\n",
        "\n",
        "display(to_markdown(\"\\n💡 **Dicas importantes:**\"))\n",
        "display(to_markdown(\"*  Verifique a necessidade de visto para o seu destino.\"))\n",
        "display(to_markdown(\"*  Faça seguro viagem para garantir sua segurança.\"))\n",
        "display(to_markdown(\"*  Aproveite cada momento da sua viagem! 😊\"))"
      ],
      "metadata": {
        "colab": {
          "base_uri": "https://localhost:8080/",
          "height": 980
        },
        "id": "TYBHwrnaXTxr",
        "outputId": "9114cb73-f925-4dc2-9773-8bbb5f872aa9"
      },
      "execution_count": 138,
      "outputs": [
        {
          "output_type": "display_data",
          "data": {
            "text/plain": [
              "<IPython.core.display.Markdown object>"
            ],
            "text/markdown": "> 🌎 **Para onde você gostaria de viajar?**"
          },
          "metadata": {}
        },
        {
          "name": "stdout",
          "output_type": "stream",
          "text": [
            "Himalaia\n"
          ]
        },
        {
          "output_type": "display_data",
          "data": {
            "text/plain": [
              "<IPython.core.display.Markdown object>"
            ],
            "text/markdown": "> 📅 **Quando você gostaria de viajar? (Ex: 20 de Abril de 2023)**"
          },
          "metadata": {}
        },
        {
          "name": "stdout",
          "output_type": "stream",
          "text": [
            "23 de julho de 2024\n"
          ]
        },
        {
          "output_type": "display_data",
          "data": {
            "text/plain": [
              "<IPython.core.display.Markdown object>"
            ],
            "text/markdown": "> 🌟 **Quais são seus interesses? (Ex: história, aventura, culinária)**"
          },
          "metadata": {}
        },
        {
          "name": "stdout",
          "output_type": "stream",
          "text": [
            "historia\n"
          ]
        },
        {
          "output_type": "display_data",
          "data": {
            "text/plain": [
              "<IPython.core.display.Markdown object>"
            ],
            "text/markdown": "> ✈️  **Seu plano de viagem para Himalaia está pronto!** 🎉"
          },
          "metadata": {}
        },
        {
          "output_type": "display_data",
          "data": {
            "text/plain": [
              "<IPython.core.display.Markdown object>"
            ],
            "text/markdown": "> ###  Atrações 🏞️:\n> \n> * **Mosteiro de Tawang:** Um antigo e imponente mosteiro budista com arquitetura deslumbrante e uma rica história. 🛕\n> * **Lago Tsomgo (Lago Changu):** Um lago azul-turquesa cênico situado a uma altitude de 3.780 metros. 🏞️\n> * **Passo Nathu La:** Um passo de montanha na fronteira entre a Índia e a China, oferecendo vistas panorâmicas do Himalaia. 🏔️\n> * **Ruínas de Dzong de Yangthang:** As ruínas de um antigo forte que remonta ao século IX, oferecendo insights sobre a história da região. 🏰\n> * **Museu de Memorial de Guerra de Bumla:** Um museu que exibe artefatos e conta a história da Guerra Sino-Indiana de 1962. 🪖\n> \n"
          },
          "metadata": {}
        },
        {
          "output_type": "display_data",
          "data": {
            "text/plain": [
              "<IPython.core.display.Markdown object>"
            ],
            "text/markdown": "> ###  Restaurantes 🍽️:\n> \n> * **Cafe 1962:** Um café aconchegante que serve comida tibetana e indiana autêntica. ☕️\n> * **Momo's Inn:** Um restaurante especializado em momos, bolinhos tradicionais tibetanos. 🥟\n> * **Tenzin's Kitchen:** Um restaurante familiar que oferece uma variedade de pratos tibetanos e indianos. 🍛\n> * **Himalayan Cafe:** Um café com vista para o Lago Tsomgo, servindo chá, café e lanches. 🍵\n> * **Yak Restaurant:** Um restaurante que serve pratos tradicionais tibetanos, incluindo carne de iaque. 🥩\n> \n"
          },
          "metadata": {}
        },
        {
          "output_type": "display_data",
          "data": {
            "text/plain": [
              "<IPython.core.display.Markdown object>"
            ],
            "text/markdown": "> ###  Transporte 🚗:\n> \n> * **Voo para Bagdogra (IXB):** O aeroporto mais próximo do Himalaia, a cerca de 5 horas de carro de Tawang. ✈️\n> * **Táxi ou carro alugado:** A melhor maneira de viajar dentro do Himalaia, pois as estradas são bem conservadas. 🚕\n> * **Ônibus:** Uma opção mais econômica, mas os ônibus são menos frequentes e podem ser lotados. 🚌\n> \n"
          },
          "metadata": {}
        },
        {
          "output_type": "display_data",
          "data": {
            "text/plain": [
              "<IPython.core.display.Markdown object>"
            ],
            "text/markdown": "> ###  Dicas 💡:\n> \n> * **Planeje com antecedência:** Obtenha as licenças necessárias e reserve acomodações e transporte com antecedência. 🗓️\n> * **Esteja preparado para a altitude:** O Himalaia é uma região de alta altitude, então esteja preparado para sintomas como falta de ar e enjoo de montanha. 🗻\n> * **Vista-se adequadamente:** Use roupas quentes e sapatos confortáveis, pois o clima pode ser imprevisível. 🥾\n> * **Respeite a cultura local:** O Himalaia é uma região culturalmente rica, então seja respeitoso com as tradições e costumes locais. 🙏\n> * **Leve um kit de primeiros socorros:** Esteja preparado para pequenas lesões ou doenças. 🩹"
          },
          "metadata": {}
        },
        {
          "output_type": "display_data",
          "data": {
            "text/plain": [
              "<IPython.core.display.Markdown object>"
            ],
            "text/markdown": "> \n> 💡 **Dicas importantes:**"
          },
          "metadata": {}
        },
        {
          "output_type": "display_data",
          "data": {
            "text/plain": [
              "<IPython.core.display.Markdown object>"
            ],
            "text/markdown": "> *  Verifique a necessidade de visto para o seu destino."
          },
          "metadata": {}
        },
        {
          "output_type": "display_data",
          "data": {
            "text/plain": [
              "<IPython.core.display.Markdown object>"
            ],
            "text/markdown": "> *  Faça seguro viagem para garantir sua segurança."
          },
          "metadata": {}
        },
        {
          "output_type": "display_data",
          "data": {
            "text/plain": [
              "<IPython.core.display.Markdown object>"
            ],
            "text/markdown": "> *  Aproveite cada momento da sua viagem! 😊"
          },
          "metadata": {}
        }
      ]
    }
  ]
}